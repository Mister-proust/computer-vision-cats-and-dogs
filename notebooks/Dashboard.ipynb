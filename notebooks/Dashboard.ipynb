{
 "cells": [
  {
   "cell_type": "code",
   "execution_count": 4,
   "id": "7eca9196-4dfa-4be3-b79a-5309aeb31fa3",
   "metadata": {},
   "outputs": [],
   "source": [
    "import os\n",
    "from dotenv import load_dotenv\n",
    "\n",
    "load_dotenv()\n",
    "\n",
    "DATABASE_URL = os.getenv(\"DATABASE_URL\")  "
   ]
  },
  {
   "cell_type": "code",
   "execution_count": 8,
   "id": "06440369-540c-438b-bca3-b356a275f0e1",
   "metadata": {},
   "outputs": [],
   "source": [
    "from sqlalchemy import create_engine\n",
    "import pandas as pd\n",
    "\n",
    "engine = create_engine(DATABASE_URL)"
   ]
  },
  {
   "cell_type": "code",
   "execution_count": 10,
   "id": "b36b0b5d-f80b-4231-bcaf-327c2d931c3d",
   "metadata": {},
   "outputs": [
    {
     "data": {
      "text/html": [
       "<div>\n",
       "<style scoped>\n",
       "    .dataframe tbody tr th:only-of-type {\n",
       "        vertical-align: middle;\n",
       "    }\n",
       "\n",
       "    .dataframe tbody tr th {\n",
       "        vertical-align: top;\n",
       "    }\n",
       "\n",
       "    .dataframe thead th {\n",
       "        text-align: right;\n",
       "    }\n",
       "</style>\n",
       "<table border=\"1\" class=\"dataframe\">\n",
       "  <thead>\n",
       "    <tr style=\"text-align: right;\">\n",
       "      <th></th>\n",
       "      <th>id</th>\n",
       "      <th>image_path</th>\n",
       "      <th>timestamp</th>\n",
       "      <th>feedback</th>\n",
       "      <th>prediction</th>\n",
       "      <th>time_metric_id</th>\n",
       "    </tr>\n",
       "  </thead>\n",
       "  <tbody>\n",
       "    <tr>\n",
       "      <th>0</th>\n",
       "      <td>1</td>\n",
       "      <td>/app/src/data/images/positif/chien/20250926094...</td>\n",
       "      <td>2025-09-26 09:41:25.016807</td>\n",
       "      <td>1</td>\n",
       "      <td>d</td>\n",
       "      <td>1</td>\n",
       "    </tr>\n",
       "    <tr>\n",
       "      <th>1</th>\n",
       "      <td>2</td>\n",
       "      <td>/app/src/data/images/positif/chien/20250926094...</td>\n",
       "      <td>2025-09-26 09:42:51.149015</td>\n",
       "      <td>1</td>\n",
       "      <td>d</td>\n",
       "      <td>2</td>\n",
       "    </tr>\n",
       "    <tr>\n",
       "      <th>2</th>\n",
       "      <td>3</td>\n",
       "      <td>/app/src/data/images/positif/chien/20250926094...</td>\n",
       "      <td>2025-09-26 09:43:48.370929</td>\n",
       "      <td>1</td>\n",
       "      <td>d</td>\n",
       "      <td>3</td>\n",
       "    </tr>\n",
       "    <tr>\n",
       "      <th>3</th>\n",
       "      <td>4</td>\n",
       "      <td>/app/src/data/images/positif/chat/202509260944...</td>\n",
       "      <td>2025-09-26 09:44:20.209514</td>\n",
       "      <td>1</td>\n",
       "      <td>c</td>\n",
       "      <td>4</td>\n",
       "    </tr>\n",
       "    <tr>\n",
       "      <th>4</th>\n",
       "      <td>5</td>\n",
       "      <td>/app/src/data/images/positif/chat/202509260945...</td>\n",
       "      <td>2025-09-26 09:45:53.234615</td>\n",
       "      <td>1</td>\n",
       "      <td>c</td>\n",
       "      <td>5</td>\n",
       "    </tr>\n",
       "  </tbody>\n",
       "</table>\n",
       "</div>"
      ],
      "text/plain": [
       "   id                                         image_path  \\\n",
       "0   1  /app/src/data/images/positif/chien/20250926094...   \n",
       "1   2  /app/src/data/images/positif/chien/20250926094...   \n",
       "2   3  /app/src/data/images/positif/chien/20250926094...   \n",
       "3   4  /app/src/data/images/positif/chat/202509260944...   \n",
       "4   5  /app/src/data/images/positif/chat/202509260945...   \n",
       "\n",
       "                   timestamp  feedback prediction  time_metric_id  \n",
       "0 2025-09-26 09:41:25.016807         1          d               1  \n",
       "1 2025-09-26 09:42:51.149015         1          d               2  \n",
       "2 2025-09-26 09:43:48.370929         1          d               3  \n",
       "3 2025-09-26 09:44:20.209514         1          c               4  \n",
       "4 2025-09-26 09:45:53.234615         1          c               5  "
      ]
     },
     "execution_count": 10,
     "metadata": {},
     "output_type": "execute_result"
    }
   ],
   "source": [
    "df = pd.read_sql(\"SELECT * FROM monitoring.feedback_users;\", engine)\n",
    "df.head()\n"
   ]
  },
  {
   "cell_type": "code",
   "execution_count": 11,
   "id": "f87a923d-1fd8-4908-aefd-05d465e51b78",
   "metadata": {},
   "outputs": [
    {
     "data": {
      "text/plain": [
       "np.float64(0.7777777777777778)"
      ]
     },
     "execution_count": 11,
     "metadata": {},
     "output_type": "execute_result"
    }
   ],
   "source": [
    "df[\"feedback\"].mean()"
   ]
  },
  {
   "cell_type": "code",
   "execution_count": 16,
   "id": "74f51cd7-b5a4-4ab6-82ad-2481076b0ee6",
   "metadata": {},
   "outputs": [
    {
     "data": {
      "image/png": "[encoded data removed]",
      "text/plain": [
       "<Figure size 600x400 with 1 Axes>"
      ]
     },
     "metadata": {},
     "output_type": "display_data"
    }
   ],
   "source": [
    "import matplotlib.pyplot as plt\n",
    "import numpy as np\n",
    "\n",
    "plt.figure(figsize=(6, 4))\n",
    "\n",
    "# Boîte à moustache\n",
    "plt.boxplot(df[\"feedback\"], vert=True, patch_artist=True)\n",
    "\n",
    "# Points individuels (jitter horizontal pour éviter la superposition)\n",
    "x = np.random.normal(1, 0.04, size=len(df[\"feedback\"]))\n",
    "plt.plot(x, df[\"feedback\"], 'o', alpha=0.6)\n",
    "\n",
    "plt.title(\"Distribution des feedbacks\")\n",
    "plt.ylabel(\"Feedback\")\n",
    "plt.xticks([1], [\"Nombre d'échantillons\"])\n",
    "plt.show()\n"
   ]
  },
  {
   "cell_type": "code",
   "execution_count": 12,
   "id": "638f7b5d-8576-4d5a-80cc-c5c47c591e0c",
   "metadata": {},
   "outputs": [
    {
     "data": {
      "text/html": [
       "<div>\n",
       "<style scoped>\n",
       "    .dataframe tbody tr th:only-of-type {\n",
       "        vertical-align: middle;\n",
       "    }\n",
       "\n",
       "    .dataframe tbody tr th {\n",
       "        vertical-align: top;\n",
       "    }\n",
       "\n",
       "    .dataframe thead th {\n",
       "        text-align: right;\n",
       "    }\n",
       "</style>\n",
       "<table border=\"1\" class=\"dataframe\">\n",
       "  <thead>\n",
       "    <tr style=\"text-align: right;\">\n",
       "      <th></th>\n",
       "      <th>id</th>\n",
       "      <th>timestamp</th>\n",
       "      <th>inference_time_ms</th>\n",
       "      <th>success</th>\n",
       "    </tr>\n",
       "  </thead>\n",
       "  <tbody>\n",
       "    <tr>\n",
       "      <th>0</th>\n",
       "      <td>1</td>\n",
       "      <td>2025-09-26 09:41:21.928489</td>\n",
       "      <td>196.526979</td>\n",
       "      <td>True</td>\n",
       "    </tr>\n",
       "    <tr>\n",
       "      <th>1</th>\n",
       "      <td>2</td>\n",
       "      <td>2025-09-26 09:42:49.433149</td>\n",
       "      <td>55.585991</td>\n",
       "      <td>True</td>\n",
       "    </tr>\n",
       "    <tr>\n",
       "      <th>2</th>\n",
       "      <td>3</td>\n",
       "      <td>2025-09-26 09:43:46.936166</td>\n",
       "      <td>249.305530</td>\n",
       "      <td>True</td>\n",
       "    </tr>\n",
       "    <tr>\n",
       "      <th>3</th>\n",
       "      <td>4</td>\n",
       "      <td>2025-09-26 09:44:17.712644</td>\n",
       "      <td>62.515938</td>\n",
       "      <td>True</td>\n",
       "    </tr>\n",
       "    <tr>\n",
       "      <th>4</th>\n",
       "      <td>5</td>\n",
       "      <td>2025-09-26 09:45:51.381364</td>\n",
       "      <td>60.594836</td>\n",
       "      <td>True</td>\n",
       "    </tr>\n",
       "  </tbody>\n",
       "</table>\n",
       "</div>"
      ],
      "text/plain": [
       "   id                  timestamp  inference_time_ms  success\n",
       "0   1 2025-09-26 09:41:21.928489         196.526979     True\n",
       "1   2 2025-09-26 09:42:49.433149          55.585991     True\n",
       "2   3 2025-09-26 09:43:46.936166         249.305530     True\n",
       "3   4 2025-09-26 09:44:17.712644          62.515938     True\n",
       "4   5 2025-09-26 09:45:51.381364          60.594836     True"
      ]
     },
     "execution_count": 12,
     "metadata": {},
     "output_type": "execute_result"
    }
   ],
   "source": [
    "df2 = pd.read_sql(\"SELECT * FROM monitoring.time_metrics;\", engine)\n",
    "df2.head()\n"
   ]
  },
  {
   "cell_type": "code",
   "execution_count": 13,
   "id": "8e1fab41-6405-4349-b5c2-a45b029766ef",
   "metadata": {},
   "outputs": [
    {
     "data": {
      "text/plain": [
       "np.float64(82.15086050020344)"
      ]
     },
     "execution_count": 13,
     "metadata": {},
     "output_type": "execute_result"
    }
   ],
   "source": [
    "df2[\"inference_time_ms\"].mean()"
   ]
  },
  {
   "cell_type": "code",
   "execution_count": 17,
   "id": "636dce8e-0093-4ff0-bbd9-83b6df6e2015",
   "metadata": {},
   "outputs": [
    {
     "data": {
      "image/png": "[encoded data removed]",
      "text/plain": [
       "<Figure size 600x400 with 1 Axes>"
      ]
     },
     "metadata": {},
     "output_type": "display_data"
    }
   ],
   "source": [
    "plt.figure(figsize=(6, 4))\n",
    "\n",
    "# Boîte à moustache\n",
    "plt.boxplot(df2[\"inference_time_ms\"], vert=True, patch_artist=True)\n",
    "\n",
    "# Points individuels (jitter horizontal pour éviter la superposition)\n",
    "x = np.random.normal(1, 0.04, size=len(df2[\"inference_time_ms\"]))\n",
    "plt.plot(x, df2[\"inference_time_ms\"], 'o', alpha=0.6)\n",
    "\n",
    "plt.title(\"Distribution des temps de réponse en ms\")\n",
    "plt.ylabel(\"Temps de réponse en ms\")\n",
    "plt.xticks([1], [\"Distribution\"])\n",
    "plt.show()\n"
   ]
  },
  {
   "cell_type": "code",
   "execution_count": null,
   "id": "7a885388-f8f7-42ee-97a2-6bfd7a5361f3",
   "metadata": {},
   "outputs": [],
   "source": []
  }
 ],
 "metadata": {
  "kernelspec": {
   "display_name": "Python 3 (ipykernel)",
   "language": "python",
   "name": "python3"
  },
  "language_info": {
   "codemirror_mode": {
    "name": "ipython",
    "version": 3
   },
   "file_extension": ".py",
   "mimetype": "text/x-python",
   "name": "python",
   "nbconvert_exporter": "python",
   "pygments_lexer": "ipython3",
   "version": "3.10.12"
  }
 },
 "nbformat": 4,
 "nbformat_minor": 5
}
